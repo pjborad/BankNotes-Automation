{
 "cells": [
  {
   "cell_type": "code",
   "execution_count": 1,
   "metadata": {},
   "outputs": [
    {
     "name": "stdout",
     "output_type": "stream",
     "text": [
      "^C\n",
      "Defaulting to user installation because normal site-packages is not writeable\n",
      "Requirement already satisfied: opencv-python in c:\\users\\pritesh borad\\appdata\\roaming\\python\\python39\\site-packages (4.6.0.66)\n",
      "Requirement already satisfied: numpy>=1.19.3 in c:\\programdata\\anaconda3\\lib\\site-packages (from opencv-python) (1.21.5)\n",
      "Defaulting to user installation because normal site-packages is not writeable\n",
      "Requirement already satisfied: numpy in c:\\programdata\\anaconda3\\lib\\site-packages (1.21.5)\n"
     ]
    }
   ],
   "source": [
    "!pip install opencv-python\n",
    "!pip install numpy\n"
   ]
  },
  {
   "cell_type": "markdown",
   "metadata": {},
   "source": [
    "### Importing Libraries"
   ]
  },
  {
   "cell_type": "code",
   "execution_count": 1,
   "metadata": {},
   "outputs": [],
   "source": [
    "import cv2\n",
    "import numpy as np\n",
    "import glob\n",
    "import os \n",
    "import re"
   ]
  },
  {
   "cell_type": "markdown",
   "metadata": {},
   "source": [
    "### 1 note to multiple"
   ]
  },
  {
   "cell_type": "code",
   "execution_count": 2,
   "metadata": {},
   "outputs": [
    {
     "data": {
      "text/plain": [
       "\"\\ndef One_to_x(note,number):    \\n    if note.shape[0]>note.shape[1]:\\n        note = cv2.resize(note,(400,460),interpolation=cv2.INTER_CUBIC)\\n        note_crop = note[4:-4,4:196]\\n    ### For horizontally oriented banknotes    \\n    else:\\n        note = cv2.resize(note,(460,400),interpolation=cv2.INTER_CUBIC)\\n        note_crop = note[4:196,4:-4]\\n    \\n    if note.shape[1]>note.shape[0]:\\n        white = np.ones((192+(45*(number-1)),452,3))\\n        b_W,g_W,r_W = cv2.split(white)    \\n        b,g,r = cv2.split(note_crop)\\n        c=0\\n        for i in range(number):\\n            for j in range(192):\\n                for k in range(452):\\n                        k1 = b[j,k]  \\n                        b_W[j+c,k] = k1\\n                        k2 = g[j,k]\\n                        g_W[j+c,k] = k2\\n                        k3 = r[j,k]\\n                        r_W[j+c,k] = k3\\n            c=c+45\\n            data_b = (b_W / b_W.max())*255\\n            b_W = data_b.astype(np.uint8)\\n            data_g = (g_W / g_W.max())*255\\n            g_W = data_g.astype(np.uint8)\\n            data_r = (r_W / r_W.max())*255\\n            r_W = data_r.astype(np.uint8)\\n\\n    ### Operation for Vertically Oriented Notes\\n    else:\\n        white = np.ones((452,192+(45*(number-1)),3))\\n        b_W,g_W,r_W = cv2.split(white)    \\n        b,g,r = cv2.split(note_crop)\\n        c=0\\n        for i in range(number):\\n            for j in range(452):\\n                for k in range(192):\\n                        k1 = b[j,k]  \\n                        b_W[j,k+c] = k1\\n                        k2 = g[j,k]\\n                        g_W[j,k+c] = k2\\n                        k3 = r[j,k]\\n                        r_W[j,k+c] = k3\\n            c=c+45\\n    data_b = (b_W / b_W.max())*255\\n    b_W = data_b.astype(np.uint8)\\n    data_g = (g_W / g_W.max())*255\\n    g_W = data_g.astype(np.uint8)\\n    data_r = (r_W / r_W.max())*255\\n    r_W = data_r.astype(np.uint8)\\n    main = cv2.merge((b_W,g_W,r_W))\\n    #cv2.imshow('One-10',main)\\n    #cv2.waitKey(0)\\n    #cv2.destroyAllWindows()\\n    return main\\n\""
      ]
     },
     "execution_count": 2,
     "metadata": {},
     "output_type": "execute_result"
    }
   ],
   "source": [
    "# This function split the front and back of the images depending upon the orientation\n",
    "# can make one, one-2, one-5, one-10\n",
    "\"\"\"\n",
    "def One_to_x(note,number):    \n",
    "    if note.shape[0]>note.shape[1]:\n",
    "        note = cv2.resize(note,(400,460),interpolation=cv2.INTER_CUBIC)\n",
    "        note_crop = note[4:-4,4:196]\n",
    "    ### For horizontally oriented banknotes    \n",
    "    else:\n",
    "        note = cv2.resize(note,(460,400),interpolation=cv2.INTER_CUBIC)\n",
    "        note_crop = note[4:196,4:-4]\n",
    "    \n",
    "    if note.shape[1]>note.shape[0]:\n",
    "        white = np.ones((192+(45*(number-1)),452,3))\n",
    "        b_W,g_W,r_W = cv2.split(white)    \n",
    "        b,g,r = cv2.split(note_crop)\n",
    "        c=0\n",
    "        for i in range(number):\n",
    "            for j in range(192):\n",
    "                for k in range(452):\n",
    "                        k1 = b[j,k]  \n",
    "                        b_W[j+c,k] = k1\n",
    "                        k2 = g[j,k]\n",
    "                        g_W[j+c,k] = k2\n",
    "                        k3 = r[j,k]\n",
    "                        r_W[j+c,k] = k3\n",
    "            c=c+45\n",
    "            data_b = (b_W / b_W.max())*255\n",
    "            b_W = data_b.astype(np.uint8)\n",
    "            data_g = (g_W / g_W.max())*255\n",
    "            g_W = data_g.astype(np.uint8)\n",
    "            data_r = (r_W / r_W.max())*255\n",
    "            r_W = data_r.astype(np.uint8)\n",
    "\n",
    "    ### Operation for Vertically Oriented Notes\n",
    "    else:\n",
    "        white = np.ones((452,192+(45*(number-1)),3))\n",
    "        b_W,g_W,r_W = cv2.split(white)    \n",
    "        b,g,r = cv2.split(note_crop)\n",
    "        c=0\n",
    "        for i in range(number):\n",
    "            for j in range(452):\n",
    "                for k in range(192):\n",
    "                        k1 = b[j,k]  \n",
    "                        b_W[j,k+c] = k1\n",
    "                        k2 = g[j,k]\n",
    "                        g_W[j,k+c] = k2\n",
    "                        k3 = r[j,k]\n",
    "                        r_W[j,k+c] = k3\n",
    "            c=c+45\n",
    "    data_b = (b_W / b_W.max())*255\n",
    "    b_W = data_b.astype(np.uint8)\n",
    "    data_g = (g_W / g_W.max())*255\n",
    "    g_W = data_g.astype(np.uint8)\n",
    "    data_r = (r_W / r_W.max())*255\n",
    "    r_W = data_r.astype(np.uint8)\n",
    "    main = cv2.merge((b_W,g_W,r_W))\n",
    "    #cv2.imshow('One-10',main)\n",
    "    #cv2.waitKey(0)\n",
    "    #cv2.destroyAllWindows()\n",
    "    return main\n",
    "\"\"\""
   ]
  },
  {
   "cell_type": "code",
   "execution_count": 3,
   "metadata": {},
   "outputs": [],
   "source": [
    "# This function split the front and back of the images depending upon the orientation\n",
    "# can make one, one-2, one-5, one-10\n",
    "# with border\n",
    "def One_to_x(note,number):    \n",
    "    if note.shape[0]>note.shape[1]:\n",
    "        note = cv2.resize(note,(400,460),interpolation=cv2.INTER_CUBIC)\n",
    "        note_crop = note[4:-4,4:196]\n",
    "    ### For horizontally oriented banknotes    \n",
    "    else:\n",
    "        note = cv2.resize(note,(460,400),interpolation=cv2.INTER_CUBIC)\n",
    "        note_crop = note[4:196,4:-4]\n",
    "    \n",
    "    if note.shape[1]>note.shape[0]:\n",
    "        white = np.zeros((200+(45*(number-1)),460,3))\n",
    "        b_W,g_W,r_W = cv2.split(white)    \n",
    "        b,g,r = cv2.split(note_crop)\n",
    "        c=0\n",
    "        for i in range(number):\n",
    "            for j in range(192):\n",
    "                for k in range(452):\n",
    "                        k1 = b[j,k]  \n",
    "                        b_W[j+c+4,k+4] = k1\n",
    "                        k2 = g[j,k]\n",
    "                        g_W[j+c+4,k+4] = k2\n",
    "                        k3 = r[j,k]\n",
    "                        r_W[j+c+4,k+4] = k3\n",
    "            c=c+45\n",
    "            data_b = (b_W / b_W.max())*255\n",
    "            b_W = data_b.astype(np.uint8)\n",
    "            data_g = (g_W / g_W.max())*255\n",
    "            g_W = data_g.astype(np.uint8)\n",
    "            data_r = (r_W / r_W.max())*255\n",
    "            r_W = data_r.astype(np.uint8)\n",
    "\n",
    "    ### Operation for Vertically Oriented Notes\n",
    "    else:\n",
    "        white = np.ones((460,200+(45*(number-1)),3))\n",
    "        b_W,g_W,r_W = cv2.split(white)    \n",
    "        b,g,r = cv2.split(note_crop)\n",
    "        c=0\n",
    "        for i in range(number):\n",
    "            for j in range(452):\n",
    "                for k in range(192):\n",
    "                        k1 = b[j,k]  \n",
    "                        b_W[j+4,k+c+4] = k1\n",
    "                        k2 = g[j,k]\n",
    "                        g_W[j+4,k+c+4] = k2\n",
    "                        k3 = r[j,k]\n",
    "                        r_W[j+4,k+c+4] = k3\n",
    "            c=c+45\n",
    "    data_b = (b_W / b_W.max())*255\n",
    "    b_W = data_b.astype(np.uint8)\n",
    "    data_g = (g_W / g_W.max())*255\n",
    "    g_W = data_g.astype(np.uint8)\n",
    "    data_r = (r_W / r_W.max())*255\n",
    "    r_W = data_r.astype(np.uint8)\n",
    "    main = cv2.merge((b_W,g_W,r_W))\n",
    "    #cv2.imshow('One-10',main)\n",
    "    #cv2.waitKey(0)\n",
    "    #cv2.destroyAllWindows()\n",
    "    return main\n"
   ]
  },
  {
   "cell_type": "markdown",
   "metadata": {},
   "source": [
    "### Squeezing the Image "
   ]
  },
  {
   "cell_type": "code",
   "execution_count": 4,
   "metadata": {},
   "outputs": [
    {
     "data": {
      "text/plain": [
       "'\\nfrom scipy import ndimage\\noriginal = cv2.imread(\"1.RAW IMAGES/BAHA1_2U-2019-100.jpg\")\\noriginal = cv2.cvtColor(original, cv2.COLOR_BGR2GRAY)\\nori_resize = cv2.resize(original,(700,450))\\nori_resize1 = cv2.resize(ori_resize,(700,250))\\n\\nwhite = np.zeros((700,700))\\n# for i in range(250):\\n#     for j in range(700):\\n#         white[i,j] = ori_resize1[i,j]\\n\\nwhite[250:500,0:700] = ori_resize1[0:250,0:700]\\nwhite[white==0]=255\\ndata_white = (white / white.max())*255\\nwhite = data_white.astype(np.uint8)\\n\\n'"
      ]
     },
     "execution_count": 4,
     "metadata": {},
     "output_type": "execute_result"
    }
   ],
   "source": [
    "\"\"\"\n",
    "from scipy import ndimage\n",
    "original = cv2.imread(\"1.RAW IMAGES/BAHA1_2U-2019-100.jpg\")\n",
    "original = cv2.cvtColor(original, cv2.COLOR_BGR2GRAY)\n",
    "ori_resize = cv2.resize(original,(700,450))\n",
    "ori_resize1 = cv2.resize(ori_resize,(700,250))\n",
    "\n",
    "white = np.zeros((700,700))\n",
    "# for i in range(250):\n",
    "#     for j in range(700):\n",
    "#         white[i,j] = ori_resize1[i,j]\n",
    "\n",
    "white[250:500,0:700] = ori_resize1[0:250,0:700]\n",
    "white[white==0]=255\n",
    "data_white = (white / white.max())*255\n",
    "white = data_white.astype(np.uint8)\n",
    "\n",
    "\"\"\""
   ]
  },
  {
   "cell_type": "code",
   "execution_count": 5,
   "metadata": {},
   "outputs": [
    {
     "data": {
      "text/plain": [
       "\"\\nheight, width = white.shape\\n\\ntransform = [[1,-0.4, 0],\\n             [-0.3, 1, 0],\\n             [0, 0, 1]]\\nsheared_array = ndimage.affine_transform(white,\\n                                         transform,\\n                                         offset=(0, -height//2, 0),\\n                                         output_shape=(height, width+height//2))\\n\\nrotated = ndimage.rotate(ori_resize1, 8)\\ncv2.imshow('test',rotated)\\ncv2.imshow('test1',ori_resize)\\ncv2.waitKey(0)\\ncv2.destroyAllWindows()\\n\""
      ]
     },
     "execution_count": 5,
     "metadata": {},
     "output_type": "execute_result"
    }
   ],
   "source": [
    "\"\"\"\n",
    "height, width = white.shape\n",
    "\n",
    "transform = [[1,-0.4, 0],\n",
    "             [-0.3, 1, 0],\n",
    "             [0, 0, 1]]\n",
    "sheared_array = ndimage.affine_transform(white,\n",
    "                                         transform,\n",
    "                                         offset=(0, -height//2, 0),\n",
    "                                         output_shape=(height, width+height//2))\n",
    "\n",
    "rotated = ndimage.rotate(ori_resize1, 8)\n",
    "cv2.imshow('test',rotated)\n",
    "cv2.imshow('test1',ori_resize)\n",
    "cv2.waitKey(0)\n",
    "cv2.destroyAllWindows()\n",
    "\"\"\""
   ]
  },
  {
   "cell_type": "code",
   "execution_count": null,
   "metadata": {},
   "outputs": [],
   "source": [
    "def T100_50(bundle):\n",
    "    ori_resize = cv2.resize(bundle,(700,450),interpolation=cv2.INTER_CUBIC)\n",
    "    ori_resize1 = cv2.resize(ori_resize,(700,250),interpolation=cv2.INTER_CUBIC)\n",
    "    rotated = ndimage.rotate(ori_resize1, 8)\n",
    "    rotated[rotated==0]=255\n",
    "    return rotated\n",
    "    \n",
    "# cv2.imshow('Rotated',rotated)\n",
    "# cv2.imshow('Original',ori_resize)\n",
    "# cv2.waitKey(0)\n",
    "# cv2.destroyAllWindows()"
   ]
  },
  {
   "cell_type": "code",
   "execution_count": 6,
   "metadata": {},
   "outputs": [],
   "source": [
    "# This function make 25 to 50\n",
    "\n",
    "def T5_to_50(note,main):\n",
    "    if note.shape[1]>note.shape[0]:\n",
    "        #main = cv2.resize(main,(int(main.shape[0]*0.6),int(main.shape[1]*0.6)))\n",
    "        main1 = np.zeros((main.shape[0],2*main.shape[1],3))\n",
    "        b_W,g_W,r_W = cv2.split(main1)    \n",
    "        b,g,r = cv2.split(main)\n",
    "        a=0\n",
    "        for i in range(2):\n",
    "\n",
    "            b_W[0:b.shape[0],0+a:b.shape[1]+a] = b\n",
    "            g_W[0:g.shape[0],0+a:g.shape[1]+a] = g\n",
    "            r_W[0:r.shape[0],0+a:r.shape[1]+a] = r\n",
    "            \n",
    "            a=a+r.shape[1]\n",
    "\n",
    "        data_b = (b_W / b_W.max())*255\n",
    "        b_W = data_b.astype(np.uint8)\n",
    "        data_g = (g_W / g_W.max())*255\n",
    "        g_W = data_g.astype(np.uint8)\n",
    "        data_r = (r_W / r_W.max())*255\n",
    "        r_W = data_r.astype(np.uint8)\n",
    "        main1 = cv2.merge((b_W,g_W,r_W))\n",
    "    elif note.shape[0]>note.shape[1]:\n",
    "        #main = cv2.resize(main,(int(main.shape[0]*0.6),int(main.shape[1]*0.6)))\n",
    "        main1 = np.zeros((2*main.shape[0],main.shape[1],3))\n",
    "        b_W,g_W,r_W = cv2.split(main1)    \n",
    "        b,g,r = cv2.split(main)\n",
    "        a=0\n",
    "        for i in range(2):\n",
    "\n",
    "            b_W[0+a:b.shape[0]+a,0:b.shape[1]] = b\n",
    "            g_W[0+a:g.shape[0]+a,0:g.shape[1]] = g\n",
    "            r_W[0+a:r.shape[0]+a,0:r.shape[1]] = r\n",
    "            \n",
    "            a=a+r.shape[0]\n",
    "\n",
    "        data_b = (b_W / b_W.max())*255\n",
    "        b_W = data_b.astype(np.uint8)\n",
    "        data_g = (g_W / g_W.max())*255\n",
    "        g_W = data_g.astype(np.uint8)\n",
    "        data_r = (r_W / r_W.max())*255\n",
    "        r_W = data_r.astype(np.uint8)\n",
    "        main1 = cv2.merge((b_W,g_W,r_W))\n",
    "#     cv2.imshow('One-10',main1)\n",
    "#     cv2.waitKey(0)\n",
    "#     cv2.destroyAllWindows()\n",
    "    return main1\n"
   ]
  },
  {
   "cell_type": "markdown",
   "metadata": {},
   "source": [
    "### 1 bundle to bricks"
   ]
  },
  {
   "cell_type": "code",
   "execution_count": 7,
   "metadata": {},
   "outputs": [],
   "source": [
    "#1-bundle to 10-bundle (brick)\n",
    "v = 250\n",
    "def brundle_to_brick(bundle,number):\n",
    "    bundle = cv2.resize(bundle,(700,450),interpolation=cv2.INTER_CUBIC) #resizing the image\n",
    "    b_,g_,r_ = cv2.split(bundle) #split the channel into blue, green and red\n",
    "    gray_bundle = cv2.cvtColor(bundle, cv2.COLOR_RGB2GRAY) #converting RGB image into grayscale   \n",
    "\n",
    "    ### Define 800*800 black image for all three channels\n",
    "    empty_b = np.zeros((800,700))\n",
    "    empty_b[empty_b==0]=255\n",
    "    empty_g = empty_b.copy()\n",
    "    empty_r = empty_b.copy()\n",
    "\n",
    "    l=799\n",
    "    for i in range(449,-1,-1):\n",
    "        for j in range(700):\n",
    "            k1 = b_[i,j]\n",
    "            empty_b[l,j] = k1\n",
    "\n",
    "            k2 = g_[i,j]\n",
    "            empty_g[l,j] = k2\n",
    "\n",
    "            k3 = r_[i,j]\n",
    "            empty_r[l,j] = k3\n",
    "        l=l-1\n",
    "    data_b = (empty_b / empty_b.max())*255 \n",
    "    b = data_b.astype(np.uint8)\n",
    "    data_g = (empty_g / empty_g.max())*255 \n",
    "    g = data_g.astype(np.uint8)\n",
    "    data_r = (empty_r / empty_r.max())*255 \n",
    "    r = data_r.astype(np.uint8)\n",
    "\n",
    "    main_b = b.copy()\n",
    "    main_g = g.copy()\n",
    "    main_r = r.copy()\n",
    "    \n",
    "    b_v1 = main_b[main_b<245]\n",
    "    v1 = np.amax(b_v1)\n",
    "    g_v2 = main_g[main_g<245]\n",
    "    v2 = np.amax(g_v2)\n",
    "    r_v3 = main_g[main_g<245]\n",
    "    v3 = np.amax(r_v3)\n",
    "\n",
    "    d=35\n",
    "    for k in range(number-1):\n",
    "        for i in range(449,0,-1):  #only loop for available image\n",
    "            for j in range(700):\n",
    "                if 0<b_[i,j]<=v1: \n",
    "                    l1 = b_[i,j]\n",
    "                    main_b[350+i-d,j] = l1\n",
    "                if 0<=g_[i,j]<=v2:\n",
    "                    l2 = g_[i,j]\n",
    "                    main_g[350+i-d,j] = l2\n",
    "                if 0<=r_[i,j]<=v3:\n",
    "                    l3 = r_[i,j]\n",
    "                    main_r[350+i-d,j] = l3 \n",
    "        d=d+35\n",
    "    main = cv2.merge((main_b,main_g,main_r))\n",
    "    main = main[-440-(40*(number-1)):-1,0:]\n",
    "    return main\n"
   ]
  },
  {
   "cell_type": "code",
   "execution_count": 8,
   "metadata": {},
   "outputs": [],
   "source": [
    "#1-brick to 2,3,4,5\n",
    "v=250\n",
    "def brick_to_many(main,number):\n",
    "\n",
    "    main_1 = cv2.resize(main,(300,300),interpolation=cv2.INTER_CUBIC) #resizing the image\n",
    "    b_,g_,r_ = cv2.split(main_1) #split the channel into blue, green and red\n",
    "        \n",
    "    b_v1 = b_[b_<245]\n",
    "    v1 = np.amax(b_v1)\n",
    "    g_v2 = g_[g_<245]\n",
    "    v2 = np.amax(g_v2)\n",
    "    r_v3 = r_[r_<245]\n",
    "    v3 = np.amax(r_v3)\n",
    "\n",
    "    empty_b_1 = np.zeros((600,1000))\n",
    "    empty_b_1[empty_b_1==0]=255\n",
    "    empty_g_1 = empty_b_1.copy()\n",
    "    empty_r_1 = empty_b_1.copy()\n",
    "\n",
    "    d=0\n",
    "    for k in range(1):\n",
    "        for i in range(300):\n",
    "            for j in range(300):\n",
    "                empty_b_1[i,j+d] = b_[i,j]\n",
    "                empty_g_1[i,j+d] = g_[i,j]\n",
    "                empty_r_1[i,j+d] = r_[i,j]           \n",
    "        d = d+300\n",
    "\n",
    "    d=150\n",
    "    e=60\n",
    "    for k in range(number-1):\n",
    "        for i in range(300):\n",
    "            for j in range(300):\n",
    "                if 0<b_[i,j]<=v1:\n",
    "                    empty_b_1[i+e,j+d] = b_[i,j]\n",
    "                if 0<=g_[i,j]<=v2:\n",
    "                    empty_g_1[i+e,j+d] = g_[i,j]\n",
    "                if 0<=r_[i,j]<=v3:\n",
    "                    empty_r_1[i+e,j+d] = r_[i,j]           \n",
    "        d = d + 150\n",
    "        e = e + 60\n",
    "\n",
    "    data_b = (empty_b_1 / empty_b_1.max())*255 \n",
    "    b = data_b.astype(np.uint8)\n",
    "    data_g = (empty_g_1 / empty_g_1.max())*255 \n",
    "    g = data_g.astype(np.uint8)\n",
    "    data_r = (empty_r_1 / empty_r_1.max())*255 \n",
    "    r = data_r.astype(np.uint8)\n",
    "    \n",
    "    main_rgb = cv2.merge((b,g,r)) \n",
    "    main_rgb = main_rgb[0:200+(150*(number-1)),0:300+(150*(number-1))]\n",
    "    return main_rgb"
   ]
  },
  {
   "cell_type": "markdown",
   "metadata": {},
   "source": [
    "### 5 bricks to 10"
   ]
  },
  {
   "cell_type": "code",
   "execution_count": 9,
   "metadata": {},
   "outputs": [],
   "source": [
    "#5-bricks to 10-bricks\n",
    "v=250\n",
    "def brick_to_10(main_rgb):\n",
    "    \n",
    "    b_,g_,r_ = cv2.split(main_rgb) #split the channel into blue, green and red\n",
    "    \n",
    "    b_v1 = b_[b_<245]\n",
    "    v1 = np.amax(b_v1)\n",
    "    g_v2 = g_[g_<245]\n",
    "    v2 = np.amax(g_v2)\n",
    "    r_v3 = r_[r_<245]\n",
    "    v3 = np.amax(r_v3)\n",
    "    \n",
    "    brick_b = np.zeros((900,900))\n",
    "    brick_b[brick_b==0]=255\n",
    "    brick_g = brick_b.copy()\n",
    "    brick_r = brick_b.copy()\n",
    "    f=0\n",
    "    for k in range(2):\n",
    "        for i in range(600):\n",
    "            for j in range(900):\n",
    "                if 0<b_[i,j]<=v:\n",
    "                    brick_b[i+f,j] = b_[i,j]\n",
    "                if 0<g_[i,j]<=v:\n",
    "                    brick_g[i+f,j] = g_[i,j]\n",
    "                if 0<r_[i,j]<=v:\n",
    "                    brick_r[i+f,j] = r_[i,j]\n",
    "    \n",
    "        f=f+250\n",
    "    data_b = (brick_b / brick_b.max())*255 \n",
    "    b = data_b.astype(np.uint8)\n",
    "    data_g = (brick_g / brick_g.max())*255 \n",
    "    g = data_g.astype(np.uint8)\n",
    "    data_r = (brick_r / brick_r.max())*255 \n",
    "    r = data_r.astype(np.uint8)\n",
    "    \n",
    "    brick_10 = cv2.merge((b,g,r)) \n",
    "    return brick_10        "
   ]
  },
  {
   "cell_type": "markdown",
   "metadata": {},
   "source": [
    "### Making a list of RAW images"
   ]
  },
  {
   "cell_type": "code",
   "execution_count": 12,
   "metadata": {},
   "outputs": [
    {
     "data": {
      "text/plain": [
       "['./1.RAW IMAGES\\\\BAHA1_2U-2019-100.jpg',\n",
       " './1.RAW IMAGES\\\\BAHA1_2U-2019.jpg',\n",
       " './1.RAW IMAGES\\\\INDI102U-2015-100.jpg',\n",
       " './1.RAW IMAGES\\\\INDI102U-2015.jpg']"
      ]
     },
     "execution_count": 12,
     "metadata": {},
     "output_type": "execute_result"
    }
   ],
   "source": [
    "#Make an \"1.RAW IMAGES\" and \"2.FINALIMAGES\" folder in same directory\n",
    "#This piece of code make a list of all the availabe images in folder\n",
    "#Make sure that there should be 2 images for particular bank notes (one merged front and back, other bundle)\n",
    "\n",
    "img_list = glob.glob(\"./1.RAW IMAGES/*.jpg\")\n",
    "#img_list.sort(key=lambda f: int(re.sub('\\D', \"\", f)))\n",
    "img_list = sorted(img_list, key=lambda x:float(re.findall(\"(\\d+)\",x)[0]))\n",
    "img_list"
   ]
  },
  {
   "cell_type": "markdown",
   "metadata": {},
   "source": [
    "### Reading images from the RAW folder"
   ]
  },
  {
   "cell_type": "code",
   "execution_count": 13,
   "metadata": {},
   "outputs": [],
   "source": [
    "#main logic (function calling)\n",
    "for m in range(0,len(img_list),2):\n",
    "    note = cv2.imread(img_list[m+1]) # reading the image with Front-Back\n",
    "    bundle = cv2.imread(img_list[m]) # reading the image with 100 bundle\n",
    "    #this section make single note to 10\n",
    "    #if you want to do 2 3 5, add in variable x\n",
    "\n",
    "    x = [1,2,5,10]\n",
    "    for i in x:\n",
    "        main = One_to_x(note,i)\n",
    "        cv2.imwrite('2.FINAL IMAGES/'+img_list[m+1][15:-4]+'-'+str(i)+'.jpg',main)\n",
    "    note_50 = T5_to_50(note,One_to_x(note,25)) # 25 to 50\n",
    "    cv2.imwrite('2.FINAL IMAGES/'+img_list[m+1][15:-4]+'-'+str(50)+'.jpg',note_50)\n",
    "    #this section make 1 bundle to 5 and 10 (brick)\n",
    "    \n",
    "    x = [1,2,5,10]\n",
    "    for i in x:\n",
    "        main = brundle_to_brick(bundle,i)\n",
    "        cv2.imwrite('2.FINAL IMAGES/'+img_list[m+1][15:-4]+'-'+str(i*100)+'.jpg',main)\n",
    "    #this section make 1 brick to 2,3,4,5\n",
    "  \n",
    "    x = [2,3,4,5]\n",
    "    for i in x:\n",
    "        main_till_5 = brick_to_many(main,i)\n",
    "        cv2.imwrite('2.FINAL IMAGES/'+img_list[m+1][15:-4]+'-'+str(i*1000)+'.jpg',main_till_5)\n",
    "    brick_10 = brick_to_10(main_till_5)\n",
    "    cv2.imwrite('2.FINAL IMAGES/'+img_list[m+1][15:-4]+'-'+str(10000)+'.jpg',brick_10)\n"
   ]
  },
  {
   "cell_type": "code",
   "execution_count": null,
   "metadata": {},
   "outputs": [],
   "source": []
  },
  {
   "cell_type": "code",
   "execution_count": null,
   "metadata": {},
   "outputs": [],
   "source": []
  }
 ],
 "metadata": {
  "kernelspec": {
   "display_name": "Python 3 (ipykernel)",
   "language": "python",
   "name": "python3"
  },
  "language_info": {
   "codemirror_mode": {
    "name": "ipython",
    "version": 3
   },
   "file_extension": ".py",
   "mimetype": "text/x-python",
   "name": "python",
   "nbconvert_exporter": "python",
   "pygments_lexer": "ipython3",
   "version": "3.9.12"
  }
 },
 "nbformat": 4,
 "nbformat_minor": 2
}
